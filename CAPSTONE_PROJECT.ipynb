{
  "nbformat": 4,
  "nbformat_minor": 0,
  "metadata": {
    "colab": {
      "name": "CAPSTONE_PROJECT.ipynb",
      "provenance": [],
      "collapsed_sections": [],
      "authorship_tag": "ABX9TyOoVYxdOVZQiB8n9PAqUqyY",
      "include_colab_link": true
    },
    "kernelspec": {
      "name": "python3",
      "display_name": "Python 3"
    },
    "language_info": {
      "name": "python"
    }
  },
  "cells": [
    {
      "cell_type": "markdown",
      "metadata": {
        "id": "view-in-github",
        "colab_type": "text"
      },
      "source": [
        "<a href=\"https://colab.research.google.com/github/LeidyCruz/Business_problem/blob/main/CAPSTONE_PROJECT.ipynb\" target=\"_parent\"><img src=\"https://colab.research.google.com/assets/colab-badge.svg\" alt=\"Open In Colab\"/></a>"
      ]
    },
    {
      "cell_type": "markdown",
      "metadata": {
        "id": "DVWPw-_JHlys"
      },
      "source": [
        "*CAPSTONE PROJECT*"
      ]
    },
    {
      "cell_type": "markdown",
      "metadata": {
        "id": "bautd5VuHwed"
      },
      "source": [
        "**IBM APPLIED DATA SCIENCE COURSE**"
      ]
    },
    {
      "cell_type": "markdown",
      "metadata": {
        "id": "l4XY9N2iH2b_"
      },
      "source": [
        "TITLE OF THE PROBLEM: *FINDING THE MOST CONVENIENT LOCATION FOR A RESTAURANT*"
      ]
    },
    {
      "cell_type": "markdown",
      "metadata": {
        "id": "z4aUC2rTIpTj"
      },
      "source": [
        "This report has been prepared as a part of the **IBM APPLIED DATA SCIENCE FINAL SUBMISSION CAPSTONE PROJECT**"
      ]
    },
    {
      "cell_type": "markdown",
      "metadata": {
        "id": "_88N2beQJGi3"
      },
      "source": [
        "This report aims to focus on city of Toronto and its neighborhoods to determine the better location for a restaurant chain."
      ]
    },
    {
      "cell_type": "markdown",
      "metadata": {
        "id": "EqnL-eH4JsFT"
      },
      "source": [
        "GRADE A GRILL AND CAFE is a famous eatery/restaurant in North York, Toronto. The owners wants to expand their business, opening 2 new locations in Scarborough. Therefore, the Goal is to find the central points of the 3 highest density eatery areas and take the best decision."
      ]
    },
    {
      "cell_type": "code",
      "metadata": {
        "id": "mgfXjAxmHfjI"
      },
      "source": [
        ""
      ],
      "execution_count": null,
      "outputs": []
    }
  ]
}